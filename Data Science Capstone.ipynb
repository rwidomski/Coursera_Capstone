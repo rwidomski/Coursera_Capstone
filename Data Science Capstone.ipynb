{
    "cells": [
        {
            "cell_type": "code",
            "execution_count": 1,
            "metadata": {},
            "outputs": [],
            "source": "#This notebook is for my Coursera Data Science Capstone"
        },
        {
            "cell_type": "code",
            "execution_count": 2,
            "metadata": {},
            "outputs": [],
            "source": "import pandas as pd"
        },
        {
            "cell_type": "code",
            "execution_count": 3,
            "metadata": {},
            "outputs": [],
            "source": "import numpy as np"
        },
        {
            "cell_type": "code",
            "execution_count": 4,
            "metadata": {},
            "outputs": [
                {
                    "name": "stdout",
                    "output_type": "stream",
                    "text": "Hello Capstone Project Course!\n"
                }
            ],
            "source": "print(\"Hello Capstone Project Course!\")"
        },
        {
            "cell_type": "code",
            "execution_count": 5,
            "metadata": {},
            "outputs": [
                {
                    "name": "stderr",
                    "output_type": "stream",
                    "text": "/opt/conda/envs/Python36/lib/python3.6/site-packages/IPython/core/interactiveshell.py:3020: DtypeWarning: Columns (33) have mixed types. Specify dtype option on import or set low_memory=False.\n  interactivity=interactivity, compiler=compiler, result=result)\n"
                }
            ],
            "source": "df= pd.read_csv('https://s3.us.cloud-object-storage.appdomain.cloud/cf-courses-data/CognitiveClass/DP0701EN/version-2/Data-Collisions.csv')"
        },
        {
            "cell_type": "code",
            "execution_count": 6,
            "metadata": {},
            "outputs": [
                {
                    "data": {
                        "text/html": "<div>\n<style scoped>\n    .dataframe tbody tr th:only-of-type {\n        vertical-align: middle;\n    }\n\n    .dataframe tbody tr th {\n        vertical-align: top;\n    }\n\n    .dataframe thead th {\n        text-align: right;\n    }\n</style>\n<table border=\"1\" class=\"dataframe\">\n  <thead>\n    <tr style=\"text-align: right;\">\n      <th></th>\n      <th>SEVERITYCODE</th>\n      <th>X</th>\n      <th>Y</th>\n      <th>OBJECTID</th>\n      <th>INCKEY</th>\n      <th>COLDETKEY</th>\n      <th>REPORTNO</th>\n      <th>STATUS</th>\n      <th>ADDRTYPE</th>\n      <th>INTKEY</th>\n      <th>...</th>\n      <th>ROADCOND</th>\n      <th>LIGHTCOND</th>\n      <th>PEDROWNOTGRNT</th>\n      <th>SDOTCOLNUM</th>\n      <th>SPEEDING</th>\n      <th>ST_COLCODE</th>\n      <th>ST_COLDESC</th>\n      <th>SEGLANEKEY</th>\n      <th>CROSSWALKKEY</th>\n      <th>HITPARKEDCAR</th>\n    </tr>\n  </thead>\n  <tbody>\n    <tr>\n      <th>0</th>\n      <td>2</td>\n      <td>-122.323148</td>\n      <td>47.703140</td>\n      <td>1</td>\n      <td>1307</td>\n      <td>1307</td>\n      <td>3502005</td>\n      <td>Matched</td>\n      <td>Intersection</td>\n      <td>37475.0</td>\n      <td>...</td>\n      <td>Wet</td>\n      <td>Daylight</td>\n      <td>NaN</td>\n      <td>NaN</td>\n      <td>NaN</td>\n      <td>10</td>\n      <td>Entering at angle</td>\n      <td>0</td>\n      <td>0</td>\n      <td>N</td>\n    </tr>\n    <tr>\n      <th>1</th>\n      <td>1</td>\n      <td>-122.347294</td>\n      <td>47.647172</td>\n      <td>2</td>\n      <td>52200</td>\n      <td>52200</td>\n      <td>2607959</td>\n      <td>Matched</td>\n      <td>Block</td>\n      <td>NaN</td>\n      <td>...</td>\n      <td>Wet</td>\n      <td>Dark - Street Lights On</td>\n      <td>NaN</td>\n      <td>6354039.0</td>\n      <td>NaN</td>\n      <td>11</td>\n      <td>From same direction - both going straight - bo...</td>\n      <td>0</td>\n      <td>0</td>\n      <td>N</td>\n    </tr>\n    <tr>\n      <th>2</th>\n      <td>1</td>\n      <td>-122.334540</td>\n      <td>47.607871</td>\n      <td>3</td>\n      <td>26700</td>\n      <td>26700</td>\n      <td>1482393</td>\n      <td>Matched</td>\n      <td>Block</td>\n      <td>NaN</td>\n      <td>...</td>\n      <td>Dry</td>\n      <td>Daylight</td>\n      <td>NaN</td>\n      <td>4323031.0</td>\n      <td>NaN</td>\n      <td>32</td>\n      <td>One parked--one moving</td>\n      <td>0</td>\n      <td>0</td>\n      <td>N</td>\n    </tr>\n    <tr>\n      <th>3</th>\n      <td>1</td>\n      <td>-122.334803</td>\n      <td>47.604803</td>\n      <td>4</td>\n      <td>1144</td>\n      <td>1144</td>\n      <td>3503937</td>\n      <td>Matched</td>\n      <td>Block</td>\n      <td>NaN</td>\n      <td>...</td>\n      <td>Dry</td>\n      <td>Daylight</td>\n      <td>NaN</td>\n      <td>NaN</td>\n      <td>NaN</td>\n      <td>23</td>\n      <td>From same direction - all others</td>\n      <td>0</td>\n      <td>0</td>\n      <td>N</td>\n    </tr>\n    <tr>\n      <th>4</th>\n      <td>2</td>\n      <td>-122.306426</td>\n      <td>47.545739</td>\n      <td>5</td>\n      <td>17700</td>\n      <td>17700</td>\n      <td>1807429</td>\n      <td>Matched</td>\n      <td>Intersection</td>\n      <td>34387.0</td>\n      <td>...</td>\n      <td>Wet</td>\n      <td>Daylight</td>\n      <td>NaN</td>\n      <td>4028032.0</td>\n      <td>NaN</td>\n      <td>10</td>\n      <td>Entering at angle</td>\n      <td>0</td>\n      <td>0</td>\n      <td>N</td>\n    </tr>\n  </tbody>\n</table>\n<p>5 rows \u00d7 38 columns</p>\n</div>",
                        "text/plain": "   SEVERITYCODE           X          Y  OBJECTID  INCKEY  COLDETKEY REPORTNO  \\\n0             2 -122.323148  47.703140         1    1307       1307  3502005   \n1             1 -122.347294  47.647172         2   52200      52200  2607959   \n2             1 -122.334540  47.607871         3   26700      26700  1482393   \n3             1 -122.334803  47.604803         4    1144       1144  3503937   \n4             2 -122.306426  47.545739         5   17700      17700  1807429   \n\n    STATUS      ADDRTYPE   INTKEY  ... ROADCOND                LIGHTCOND  \\\n0  Matched  Intersection  37475.0  ...      Wet                 Daylight   \n1  Matched         Block      NaN  ...      Wet  Dark - Street Lights On   \n2  Matched         Block      NaN  ...      Dry                 Daylight   \n3  Matched         Block      NaN  ...      Dry                 Daylight   \n4  Matched  Intersection  34387.0  ...      Wet                 Daylight   \n\n  PEDROWNOTGRNT  SDOTCOLNUM SPEEDING ST_COLCODE  \\\n0           NaN         NaN      NaN         10   \n1           NaN   6354039.0      NaN         11   \n2           NaN   4323031.0      NaN         32   \n3           NaN         NaN      NaN         23   \n4           NaN   4028032.0      NaN         10   \n\n                                          ST_COLDESC  SEGLANEKEY  \\\n0                                  Entering at angle           0   \n1  From same direction - both going straight - bo...           0   \n2                             One parked--one moving           0   \n3                   From same direction - all others           0   \n4                                  Entering at angle           0   \n\n   CROSSWALKKEY  HITPARKEDCAR  \n0             0             N  \n1             0             N  \n2             0             N  \n3             0             N  \n4             0             N  \n\n[5 rows x 38 columns]"
                    },
                    "execution_count": 6,
                    "metadata": {},
                    "output_type": "execute_result"
                }
            ],
            "source": "df.head()"
        },
        {
            "cell_type": "code",
            "execution_count": 7,
            "metadata": {},
            "outputs": [
                {
                    "data": {
                        "text/plain": "1    136485\n2     58188\nName: SEVERITYCODE, dtype: int64"
                    },
                    "execution_count": 7,
                    "metadata": {},
                    "output_type": "execute_result"
                }
            ],
            "source": "df['SEVERITYCODE'].value_counts() #1 is property damage, 2 is personal damage"
        },
        {
            "cell_type": "code",
            "execution_count": 8,
            "metadata": {},
            "outputs": [],
            "source": "from sklearn.utils import resample"
        },
        {
            "cell_type": "code",
            "execution_count": 9,
            "metadata": {},
            "outputs": [
                {
                    "data": {
                        "text/plain": "2    58188\n1    58188\nName: SEVERITYCODE, dtype: int64"
                    },
                    "execution_count": 9,
                    "metadata": {},
                    "output_type": "execute_result"
                }
            ],
            "source": "df_1= df[df.SEVERITYCODE==1]\ndf_2= df[df.SEVERITYCODE==2]\ndf_1_1 = resample(df_1, \n                        n_samples=58188,\n                        random_state =123)\ndf_balanced = pd.concat([df_1_1,df_2])\n\ndf_balanced.SEVERITYCODE.value_counts() #balanced data with same number of each class of accident"
        },
        {
            "cell_type": "code",
            "execution_count": 10,
            "metadata": {},
            "outputs": [
                {
                    "data": {
                        "text/html": "<div>\n<style scoped>\n    .dataframe tbody tr th:only-of-type {\n        vertical-align: middle;\n    }\n\n    .dataframe tbody tr th {\n        vertical-align: top;\n    }\n\n    .dataframe thead th {\n        text-align: right;\n    }\n</style>\n<table border=\"1\" class=\"dataframe\">\n  <thead>\n    <tr style=\"text-align: right;\">\n      <th></th>\n      <th>SEVERITYCODE</th>\n      <th>X</th>\n      <th>Y</th>\n      <th>OBJECTID</th>\n      <th>INCKEY</th>\n      <th>COLDETKEY</th>\n      <th>REPORTNO</th>\n      <th>STATUS</th>\n      <th>ADDRTYPE</th>\n      <th>INTKEY</th>\n      <th>...</th>\n      <th>ROADCOND</th>\n      <th>LIGHTCOND</th>\n      <th>PEDROWNOTGRNT</th>\n      <th>SDOTCOLNUM</th>\n      <th>SPEEDING</th>\n      <th>ST_COLCODE</th>\n      <th>ST_COLDESC</th>\n      <th>SEGLANEKEY</th>\n      <th>CROSSWALKKEY</th>\n      <th>HITPARKEDCAR</th>\n    </tr>\n  </thead>\n  <tbody>\n    <tr>\n      <th>22536</th>\n      <td>1</td>\n      <td>-122.346246</td>\n      <td>47.617908</td>\n      <td>26946</td>\n      <td>40905</td>\n      <td>40905</td>\n      <td>2190432</td>\n      <td>Matched</td>\n      <td>Intersection</td>\n      <td>29651.0</td>\n      <td>...</td>\n      <td>Wet</td>\n      <td>Dark - Street Lights On</td>\n      <td>NaN</td>\n      <td>5330033.0</td>\n      <td>NaN</td>\n      <td>15</td>\n      <td>From same direction - one left turn - one stra...</td>\n      <td>0</td>\n      <td>0</td>\n      <td>N</td>\n    </tr>\n    <tr>\n      <th>39812</th>\n      <td>1</td>\n      <td>-122.316937</td>\n      <td>47.620520</td>\n      <td>45068</td>\n      <td>58413</td>\n      <td>58413</td>\n      <td>2178396</td>\n      <td>Matched</td>\n      <td>Block</td>\n      <td>NaN</td>\n      <td>...</td>\n      <td>Dry</td>\n      <td>Daylight</td>\n      <td>NaN</td>\n      <td>6139054.0</td>\n      <td>NaN</td>\n      <td>14</td>\n      <td>From same direction - both going straight - on...</td>\n      <td>0</td>\n      <td>0</td>\n      <td>N</td>\n    </tr>\n    <tr>\n      <th>25317</th>\n      <td>1</td>\n      <td>-122.373595</td>\n      <td>47.662932</td>\n      <td>29906</td>\n      <td>44763</td>\n      <td>44763</td>\n      <td>1794767</td>\n      <td>Matched</td>\n      <td>Intersection</td>\n      <td>25457.0</td>\n      <td>...</td>\n      <td>Dry</td>\n      <td>Daylight</td>\n      <td>NaN</td>\n      <td>5068030.0</td>\n      <td>NaN</td>\n      <td>10</td>\n      <td>Entering at angle</td>\n      <td>0</td>\n      <td>0</td>\n      <td>N</td>\n    </tr>\n    <tr>\n      <th>170256</th>\n      <td>1</td>\n      <td>-122.313598</td>\n      <td>47.569517</td>\n      <td>190232</td>\n      <td>251988</td>\n      <td>252588</td>\n      <td>3756171</td>\n      <td>Matched</td>\n      <td>Block</td>\n      <td>NaN</td>\n      <td>...</td>\n      <td>Dry</td>\n      <td>Daylight</td>\n      <td>NaN</td>\n      <td>NaN</td>\n      <td>NaN</td>\n      <td>23</td>\n      <td>From same direction - all others</td>\n      <td>0</td>\n      <td>0</td>\n      <td>N</td>\n    </tr>\n    <tr>\n      <th>183714</th>\n      <td>1</td>\n      <td>-122.303321</td>\n      <td>47.580505</td>\n      <td>206555</td>\n      <td>325075</td>\n      <td>326575</td>\n      <td>3820889</td>\n      <td>Matched</td>\n      <td>Block</td>\n      <td>NaN</td>\n      <td>...</td>\n      <td>Dry</td>\n      <td>Dark - Street Lights On</td>\n      <td>NaN</td>\n      <td>NaN</td>\n      <td>NaN</td>\n      <td>32</td>\n      <td>One parked--one moving</td>\n      <td>0</td>\n      <td>0</td>\n      <td>N</td>\n    </tr>\n  </tbody>\n</table>\n<p>5 rows \u00d7 38 columns</p>\n</div>",
                        "text/plain": "        SEVERITYCODE           X          Y  OBJECTID  INCKEY  COLDETKEY  \\\n22536              1 -122.346246  47.617908     26946   40905      40905   \n39812              1 -122.316937  47.620520     45068   58413      58413   \n25317              1 -122.373595  47.662932     29906   44763      44763   \n170256             1 -122.313598  47.569517    190232  251988     252588   \n183714             1 -122.303321  47.580505    206555  325075     326575   \n\n       REPORTNO   STATUS      ADDRTYPE   INTKEY  ... ROADCOND  \\\n22536   2190432  Matched  Intersection  29651.0  ...      Wet   \n39812   2178396  Matched         Block      NaN  ...      Dry   \n25317   1794767  Matched  Intersection  25457.0  ...      Dry   \n170256  3756171  Matched         Block      NaN  ...      Dry   \n183714  3820889  Matched         Block      NaN  ...      Dry   \n\n                      LIGHTCOND PEDROWNOTGRNT  SDOTCOLNUM SPEEDING ST_COLCODE  \\\n22536   Dark - Street Lights On           NaN   5330033.0      NaN         15   \n39812                  Daylight           NaN   6139054.0      NaN         14   \n25317                  Daylight           NaN   5068030.0      NaN         10   \n170256                 Daylight           NaN         NaN      NaN         23   \n183714  Dark - Street Lights On           NaN         NaN      NaN         32   \n\n                                               ST_COLDESC  SEGLANEKEY  \\\n22536   From same direction - one left turn - one stra...           0   \n39812   From same direction - both going straight - on...           0   \n25317                                   Entering at angle           0   \n170256                   From same direction - all others           0   \n183714                             One parked--one moving           0   \n\n        CROSSWALKKEY  HITPARKEDCAR  \n22536              0             N  \n39812              0             N  \n25317              0             N  \n170256             0             N  \n183714             0             N  \n\n[5 rows x 38 columns]"
                    },
                    "execution_count": 10,
                    "metadata": {},
                    "output_type": "execute_result"
                }
            ],
            "source": "df_balanced.head()"
        },
        {
            "cell_type": "code",
            "execution_count": 11,
            "metadata": {},
            "outputs": [
                {
                    "data": {
                        "text/plain": "Y    5968\nName: SPEEDING, dtype: int64"
                    },
                    "execution_count": 11,
                    "metadata": {},
                    "output_type": "execute_result"
                }
            ],
            "source": "df_balanced['SPEEDING'].value_counts() "
        },
        {
            "cell_type": "code",
            "execution_count": 12,
            "metadata": {},
            "outputs": [],
            "source": "# Change Speeding Data to numbers. 0 = Not Speeding, 1 = Speeding\ndf_balanced['SPEEDING'].replace('Y', 1, inplace=True)\ndf_balanced['SPEEDING'].replace(np.nan, 0, inplace=True)"
        },
        {
            "cell_type": "code",
            "execution_count": 13,
            "metadata": {},
            "outputs": [
                {
                    "data": {
                        "text/plain": "0.0    110408\n1.0      5968\nName: SPEEDING, dtype: int64"
                    },
                    "execution_count": 13,
                    "metadata": {},
                    "output_type": "execute_result"
                }
            ],
            "source": "df_balanced['SPEEDING'].value_counts() #Most cases did not have speeding reported"
        },
        {
            "cell_type": "code",
            "execution_count": 14,
            "metadata": {},
            "outputs": [
                {
                    "data": {
                        "text/plain": "N    60389\n0    47390\nY     3299\n1     2620\nName: UNDERINFL, dtype: int64"
                    },
                    "execution_count": 14,
                    "metadata": {},
                    "output_type": "execute_result"
                }
            ],
            "source": "df_balanced['UNDERINFL'].value_counts()"
        },
        {
            "cell_type": "code",
            "execution_count": 15,
            "metadata": {},
            "outputs": [],
            "source": "df_balanced['UNDERINFL'].replace('N', 0, inplace=True)\ndf_balanced['UNDERINFL'].replace('Y', 1, inplace=True)\ndf_balanced['UNDERINFL'].replace(np.nan, 0, inplace=True)"
        },
        {
            "cell_type": "code",
            "execution_count": 16,
            "metadata": {},
            "outputs": [
                {
                    "data": {
                        "text/plain": "0    63067\n0    47390\n1     3299\n1     2620\nName: UNDERINFL, dtype: int64"
                    },
                    "execution_count": 16,
                    "metadata": {},
                    "output_type": "execute_result"
                }
            ],
            "source": "df_balanced['UNDERINFL'].value_counts() #Most Cases did not have someone under the influence"
        },
        {
            "cell_type": "code",
            "execution_count": 17,
            "metadata": {},
            "outputs": [
                {
                    "data": {
                        "text/plain": "Clear                       67853\nRaining                     20572\nOvercast                    16757\nUnknown                      7050\nSnowing                       480\nOther                         405\nFog/Smog/Smoke                338\nSleet/Hail/Freezing Rain       75\nBlowing Sand/Dirt              29\nSevere Crosswind               18\nPartly Cloudy                   3\nName: WEATHER, dtype: int64"
                    },
                    "execution_count": 17,
                    "metadata": {},
                    "output_type": "execute_result"
                }
            ],
            "source": "df_balanced['WEATHER'].value_counts()"
        },
        {
            "cell_type": "code",
            "execution_count": 18,
            "metadata": {},
            "outputs": [],
            "source": "#Change weather data to numbers. 0 = Clear,1 = Cloudy, 2 = Windy, 3 = Precipitation \ndf_balanced['WEATHER'].replace('Clear', 0, inplace=True)\ndf_balanced['WEATHER'].replace('Raining', 3, inplace=True)\ndf_balanced['WEATHER'].replace('Overcast', 1, inplace=True)\ndf_balanced['WEATHER'].replace('Snowing', 3, inplace=True)\ndf_balanced['WEATHER'].replace('Other', 'Unknown', inplace=True)\ndf_balanced['WEATHER'].replace('Fog/Smog/Smoke', 1, inplace=True)\ndf_balanced['WEATHER'].replace('Sleet/Hail/Freezing Rain', 3, inplace=True)\ndf_balanced['WEATHER'].replace('Blowing Sand/Dirt', 2, inplace=True)\ndf_balanced['WEATHER'].replace('Severe Crosswind', 2, inplace=True)\ndf_balanced['WEATHER'].replace('Partly Cloudy', 1, inplace=True)\ndf_balanced['WEATHER'].replace(np.nan, 'Unknown', inplace=True)"
        },
        {
            "cell_type": "code",
            "execution_count": 88,
            "metadata": {},
            "outputs": [],
            "source": "df_balanced['WEATHER'].replace('Unknown', 2, inplace=True)\nmean = df_balanced['WEATHER'].mean()"
        },
        {
            "cell_type": "code",
            "execution_count": 89,
            "metadata": {},
            "outputs": [],
            "source": "df_balanced['WEATHER'].replace(2, mean, inplace=True)"
        },
        {
            "cell_type": "code",
            "execution_count": 90,
            "metadata": {},
            "outputs": [
                {
                    "data": {
                        "text/plain": "0.000000    67853\n3.000000    21127\n1.000000    17098\n0.868521    10298\nName: WEATHER, dtype: int64"
                    },
                    "execution_count": 90,
                    "metadata": {},
                    "output_type": "execute_result"
                }
            ],
            "source": "df_balanced['WEATHER'].value_counts()"
        },
        {
            "cell_type": "code",
            "execution_count": 20,
            "metadata": {},
            "outputs": [
                {
                    "data": {
                        "text/plain": "Daylight                    71665\nDark - Street Lights On     28817\nUnknown                      6248\nDusk                         3649\nDawn                         1495\nDark - No Street Lights       832\nDark - Street Lights Off      693\nOther                         129\nDark - Unknown Lighting         9\nName: LIGHTCOND, dtype: int64"
                    },
                    "execution_count": 20,
                    "metadata": {},
                    "output_type": "execute_result"
                }
            ],
            "source": "df_balanced['LIGHTCOND'].value_counts()"
        },
        {
            "cell_type": "code",
            "execution_count": 21,
            "metadata": {},
            "outputs": [],
            "source": "#Change Light Condition data to numbers. 0 = Light, 1 = Dusk/Dawn, 2 = Dark\ndf_balanced['LIGHTCOND'].replace('Daylight', 0, inplace=True)\ndf_balanced['LIGHTCOND'].replace('Dark - Street Lights On', 1, inplace=True)\ndf_balanced['LIGHTCOND'].replace('Dark - No Street Lights', 2, inplace=True)\ndf_balanced['LIGHTCOND'].replace('Dusk', 1, inplace=True)\ndf_balanced['LIGHTCOND'].replace('Dawn', 1, inplace=True)\ndf_balanced['LIGHTCOND'].replace('Dark - Street Lights Off', 2, inplace=True)\ndf_balanced['LIGHTCOND'].replace('Dark - Unknown Lighting', 2, inplace=True)\ndf_balanced['LIGHTCOND'].replace('Other','Unknown', inplace=True)\ndf_balanced['LIGHTCOND'].replace(np.nan, 'Unknown', inplace=True)"
        },
        {
            "cell_type": "code",
            "execution_count": 85,
            "metadata": {},
            "outputs": [],
            "source": "df_balanced['LIGHTCOND'].replace('Unknown', 2, inplace=True)\nmean = df_balanced['LIGHTCOND'].mean()"
        },
        {
            "cell_type": "code",
            "execution_count": 86,
            "metadata": {},
            "outputs": [],
            "source": "df_balanced['LIGHTCOND'].replace(2, mean, inplace=True)"
        },
        {
            "cell_type": "code",
            "execution_count": 87,
            "metadata": {},
            "outputs": [
                {
                    "data": {
                        "text/plain": "0.000000    71665\n1.000000    33961\n0.476567    10750\nName: LIGHTCOND, dtype: int64"
                    },
                    "execution_count": 87,
                    "metadata": {},
                    "output_type": "execute_result"
                }
            ],
            "source": "df_balanced['LIGHTCOND'].value_counts()"
        },
        {
            "cell_type": "code",
            "execution_count": 23,
            "metadata": {},
            "outputs": [
                {
                    "data": {
                        "text/plain": "Dry               76055\nWet               29225\nUnknown            6927\nIce                 654\nSnow/Slush          521\nOther                83\nStanding Water       73\nSand/Mud/Dirt        48\nOil                  39\nName: ROADCOND, dtype: int64"
                    },
                    "execution_count": 23,
                    "metadata": {},
                    "output_type": "execute_result"
                }
            ],
            "source": "df_balanced['ROADCOND'].value_counts()"
        },
        {
            "cell_type": "code",
            "execution_count": 24,
            "metadata": {},
            "outputs": [],
            "source": "#Change Road Condition data to numbers. 0 = Dry Pavement, 1 = Not Pavement/Wet\ndf_balanced['ROADCOND'].replace('Dry', 0, inplace=True)\ndf_balanced['ROADCOND'].replace('Wet', 1, inplace=True)\ndf_balanced['ROADCOND'].replace('Ice', 1, inplace=True)\ndf_balanced['ROADCOND'].replace('Snow/Slush', 1, inplace=True)\ndf_balanced['ROADCOND'].replace('Other', 'Unknown', inplace=True)\ndf_balanced['ROADCOND'].replace('Standing Water', 1, inplace=True)\ndf_balanced['ROADCOND'].replace('Sand/Mud/Dirt', 1, inplace=True)\ndf_balanced['ROADCOND'].replace('Oil', 1, inplace=True)\ndf_balanced['ROADCOND'].replace(2, 1, inplace=True)\ndf_balanced['ROADCOND'].replace(np.nan, 'Unknown', inplace=True)"
        },
        {
            "cell_type": "code",
            "execution_count": 68,
            "metadata": {},
            "outputs": [],
            "source": "df_balanced['ROADCOND'].replace('Unknown', 2, inplace=True)\nmean = df_balanced['ROADCOND'].mean()"
        },
        {
            "cell_type": "code",
            "execution_count": 69,
            "metadata": {},
            "outputs": [],
            "source": "df_balanced['ROADCOND'].replace(2, mean, inplace=True)"
        },
        {
            "cell_type": "code",
            "execution_count": 71,
            "metadata": {},
            "outputs": [
                {
                    "data": {
                        "text/plain": "0.000000    76055\n1.000000    30560\n0.430346     9761\nName: ROADCOND, dtype: int64"
                    },
                    "execution_count": 71,
                    "metadata": {},
                    "output_type": "execute_result"
                }
            ],
            "source": "df_balanced['ROADCOND'].value_counts()"
        },
        {
            "cell_type": "code",
            "execution_count": 91,
            "metadata": {},
            "outputs": [
                {
                    "data": {
                        "text/html": "<div>\n<style scoped>\n    .dataframe tbody tr th:only-of-type {\n        vertical-align: middle;\n    }\n\n    .dataframe tbody tr th {\n        vertical-align: top;\n    }\n\n    .dataframe thead th {\n        text-align: right;\n    }\n</style>\n<table border=\"1\" class=\"dataframe\">\n  <thead>\n    <tr style=\"text-align: right;\">\n      <th></th>\n      <th>SEVERITYCODE</th>\n      <th>X</th>\n      <th>Y</th>\n      <th>OBJECTID</th>\n      <th>INCKEY</th>\n      <th>COLDETKEY</th>\n      <th>REPORTNO</th>\n      <th>STATUS</th>\n      <th>ADDRTYPE</th>\n      <th>INTKEY</th>\n      <th>...</th>\n      <th>ROADCOND</th>\n      <th>LIGHTCOND</th>\n      <th>PEDROWNOTGRNT</th>\n      <th>SDOTCOLNUM</th>\n      <th>SPEEDING</th>\n      <th>ST_COLCODE</th>\n      <th>ST_COLDESC</th>\n      <th>SEGLANEKEY</th>\n      <th>CROSSWALKKEY</th>\n      <th>HITPARKEDCAR</th>\n    </tr>\n  </thead>\n  <tbody>\n    <tr>\n      <th>22536</th>\n      <td>1</td>\n      <td>-122.346246</td>\n      <td>47.617908</td>\n      <td>26946</td>\n      <td>40905</td>\n      <td>40905</td>\n      <td>2190432</td>\n      <td>Matched</td>\n      <td>Intersection</td>\n      <td>29651.0</td>\n      <td>...</td>\n      <td>1.0</td>\n      <td>1.0</td>\n      <td>NaN</td>\n      <td>5330033.0</td>\n      <td>0.0</td>\n      <td>15</td>\n      <td>From same direction - one left turn - one stra...</td>\n      <td>0</td>\n      <td>0</td>\n      <td>N</td>\n    </tr>\n    <tr>\n      <th>39812</th>\n      <td>1</td>\n      <td>-122.316937</td>\n      <td>47.620520</td>\n      <td>45068</td>\n      <td>58413</td>\n      <td>58413</td>\n      <td>2178396</td>\n      <td>Matched</td>\n      <td>Block</td>\n      <td>NaN</td>\n      <td>...</td>\n      <td>0.0</td>\n      <td>0.0</td>\n      <td>NaN</td>\n      <td>6139054.0</td>\n      <td>0.0</td>\n      <td>14</td>\n      <td>From same direction - both going straight - on...</td>\n      <td>0</td>\n      <td>0</td>\n      <td>N</td>\n    </tr>\n    <tr>\n      <th>25317</th>\n      <td>1</td>\n      <td>-122.373595</td>\n      <td>47.662932</td>\n      <td>29906</td>\n      <td>44763</td>\n      <td>44763</td>\n      <td>1794767</td>\n      <td>Matched</td>\n      <td>Intersection</td>\n      <td>25457.0</td>\n      <td>...</td>\n      <td>0.0</td>\n      <td>0.0</td>\n      <td>NaN</td>\n      <td>5068030.0</td>\n      <td>0.0</td>\n      <td>10</td>\n      <td>Entering at angle</td>\n      <td>0</td>\n      <td>0</td>\n      <td>N</td>\n    </tr>\n    <tr>\n      <th>170256</th>\n      <td>1</td>\n      <td>-122.313598</td>\n      <td>47.569517</td>\n      <td>190232</td>\n      <td>251988</td>\n      <td>252588</td>\n      <td>3756171</td>\n      <td>Matched</td>\n      <td>Block</td>\n      <td>NaN</td>\n      <td>...</td>\n      <td>0.0</td>\n      <td>0.0</td>\n      <td>NaN</td>\n      <td>NaN</td>\n      <td>0.0</td>\n      <td>23</td>\n      <td>From same direction - all others</td>\n      <td>0</td>\n      <td>0</td>\n      <td>N</td>\n    </tr>\n    <tr>\n      <th>183714</th>\n      <td>1</td>\n      <td>-122.303321</td>\n      <td>47.580505</td>\n      <td>206555</td>\n      <td>325075</td>\n      <td>326575</td>\n      <td>3820889</td>\n      <td>Matched</td>\n      <td>Block</td>\n      <td>NaN</td>\n      <td>...</td>\n      <td>0.0</td>\n      <td>1.0</td>\n      <td>NaN</td>\n      <td>NaN</td>\n      <td>0.0</td>\n      <td>32</td>\n      <td>One parked--one moving</td>\n      <td>0</td>\n      <td>0</td>\n      <td>N</td>\n    </tr>\n  </tbody>\n</table>\n<p>5 rows \u00d7 38 columns</p>\n</div>",
                        "text/plain": "        SEVERITYCODE           X          Y  OBJECTID  INCKEY  COLDETKEY  \\\n22536              1 -122.346246  47.617908     26946   40905      40905   \n39812              1 -122.316937  47.620520     45068   58413      58413   \n25317              1 -122.373595  47.662932     29906   44763      44763   \n170256             1 -122.313598  47.569517    190232  251988     252588   \n183714             1 -122.303321  47.580505    206555  325075     326575   \n\n       REPORTNO   STATUS      ADDRTYPE   INTKEY  ... ROADCOND LIGHTCOND  \\\n22536   2190432  Matched  Intersection  29651.0  ...      1.0       1.0   \n39812   2178396  Matched         Block      NaN  ...      0.0       0.0   \n25317   1794767  Matched  Intersection  25457.0  ...      0.0       0.0   \n170256  3756171  Matched         Block      NaN  ...      0.0       0.0   \n183714  3820889  Matched         Block      NaN  ...      0.0       1.0   \n\n       PEDROWNOTGRNT  SDOTCOLNUM SPEEDING ST_COLCODE  \\\n22536            NaN   5330033.0      0.0         15   \n39812            NaN   6139054.0      0.0         14   \n25317            NaN   5068030.0      0.0         10   \n170256           NaN         NaN      0.0         23   \n183714           NaN         NaN      0.0         32   \n\n                                               ST_COLDESC  SEGLANEKEY  \\\n22536   From same direction - one left turn - one stra...           0   \n39812   From same direction - both going straight - on...           0   \n25317                                   Entering at angle           0   \n170256                   From same direction - all others           0   \n183714                             One parked--one moving           0   \n\n        CROSSWALKKEY  HITPARKEDCAR  \n22536              0             N  \n39812              0             N  \n25317              0             N  \n170256             0             N  \n183714             0             N  \n\n[5 rows x 38 columns]"
                    },
                    "execution_count": 91,
                    "metadata": {},
                    "output_type": "execute_result"
                }
            ],
            "source": "df_balanced.head()"
        },
        {
            "cell_type": "code",
            "execution_count": 92,
            "metadata": {},
            "outputs": [],
            "source": "#New Data Frame with just variables I will use\nselected_columns=df_balanced[['INCKEY','SPEEDING','UNDERINFL','WEATHER','LIGHTCOND','ROADCOND', 'SEVERITYCODE']]"
        },
        {
            "cell_type": "code",
            "execution_count": 93,
            "metadata": {},
            "outputs": [],
            "source": "df_a=selected_columns"
        },
        {
            "cell_type": "code",
            "execution_count": 94,
            "metadata": {},
            "outputs": [
                {
                    "data": {
                        "text/html": "<div>\n<style scoped>\n    .dataframe tbody tr th:only-of-type {\n        vertical-align: middle;\n    }\n\n    .dataframe tbody tr th {\n        vertical-align: top;\n    }\n\n    .dataframe thead th {\n        text-align: right;\n    }\n</style>\n<table border=\"1\" class=\"dataframe\">\n  <thead>\n    <tr style=\"text-align: right;\">\n      <th></th>\n      <th>INCKEY</th>\n      <th>SPEEDING</th>\n      <th>UNDERINFL</th>\n      <th>WEATHER</th>\n      <th>LIGHTCOND</th>\n      <th>ROADCOND</th>\n      <th>SEVERITYCODE</th>\n    </tr>\n  </thead>\n  <tbody>\n    <tr>\n      <th>22536</th>\n      <td>40905</td>\n      <td>0.0</td>\n      <td>0</td>\n      <td>0.0</td>\n      <td>1.0</td>\n      <td>1.0</td>\n      <td>1</td>\n    </tr>\n    <tr>\n      <th>39812</th>\n      <td>58413</td>\n      <td>0.0</td>\n      <td>0</td>\n      <td>0.0</td>\n      <td>0.0</td>\n      <td>0.0</td>\n      <td>1</td>\n    </tr>\n    <tr>\n      <th>25317</th>\n      <td>44763</td>\n      <td>0.0</td>\n      <td>0</td>\n      <td>0.0</td>\n      <td>0.0</td>\n      <td>0.0</td>\n      <td>1</td>\n    </tr>\n    <tr>\n      <th>170256</th>\n      <td>251988</td>\n      <td>0.0</td>\n      <td>0</td>\n      <td>1.0</td>\n      <td>0.0</td>\n      <td>0.0</td>\n      <td>1</td>\n    </tr>\n    <tr>\n      <th>183714</th>\n      <td>325075</td>\n      <td>0.0</td>\n      <td>0</td>\n      <td>0.0</td>\n      <td>1.0</td>\n      <td>0.0</td>\n      <td>1</td>\n    </tr>\n  </tbody>\n</table>\n</div>",
                        "text/plain": "        INCKEY  SPEEDING UNDERINFL  WEATHER  LIGHTCOND  ROADCOND  SEVERITYCODE\n22536    40905       0.0         0      0.0        1.0       1.0             1\n39812    58413       0.0         0      0.0        0.0       0.0             1\n25317    44763       0.0         0      0.0        0.0       0.0             1\n170256  251988       0.0         0      1.0        0.0       0.0             1\n183714  325075       0.0         0      0.0        1.0       0.0             1"
                    },
                    "execution_count": 94,
                    "metadata": {},
                    "output_type": "execute_result"
                }
            ],
            "source": "df_a.head()"
        },
        {
            "cell_type": "code",
            "execution_count": 95,
            "metadata": {},
            "outputs": [
                {
                    "data": {
                        "text/html": "<div>\n<style scoped>\n    .dataframe tbody tr th:only-of-type {\n        vertical-align: middle;\n    }\n\n    .dataframe tbody tr th {\n        vertical-align: top;\n    }\n\n    .dataframe thead th {\n        text-align: right;\n    }\n</style>\n<table border=\"1\" class=\"dataframe\">\n  <thead>\n    <tr style=\"text-align: right;\">\n      <th></th>\n      <th>INCKEY</th>\n      <th>SPEEDING</th>\n      <th>WEATHER</th>\n      <th>LIGHTCOND</th>\n      <th>ROADCOND</th>\n      <th>SEVERITYCODE</th>\n    </tr>\n  </thead>\n  <tbody>\n    <tr>\n      <th>count</th>\n      <td>116376.000000</td>\n      <td>116376.000000</td>\n      <td>116376.000000</td>\n      <td>116376.000000</td>\n      <td>116376.000000</td>\n      <td>116376.000000</td>\n    </tr>\n    <tr>\n      <th>mean</th>\n      <td>141957.407816</td>\n      <td>0.051282</td>\n      <td>0.768398</td>\n      <td>0.335843</td>\n      <td>0.298692</td>\n      <td>1.500000</td>\n    </tr>\n    <tr>\n      <th>std</th>\n      <td>87012.123560</td>\n      <td>0.220573</td>\n      <td>1.121211</td>\n      <td>0.447227</td>\n      <td>0.434644</td>\n      <td>0.500002</td>\n    </tr>\n    <tr>\n      <th>min</th>\n      <td>1001.000000</td>\n      <td>0.000000</td>\n      <td>0.000000</td>\n      <td>0.000000</td>\n      <td>0.000000</td>\n      <td>1.000000</td>\n    </tr>\n    <tr>\n      <th>25%</th>\n      <td>70813.750000</td>\n      <td>0.000000</td>\n      <td>0.000000</td>\n      <td>0.000000</td>\n      <td>0.000000</td>\n      <td>1.000000</td>\n    </tr>\n    <tr>\n      <th>50%</th>\n      <td>124341.000000</td>\n      <td>0.000000</td>\n      <td>0.000000</td>\n      <td>0.000000</td>\n      <td>0.000000</td>\n      <td>1.500000</td>\n    </tr>\n    <tr>\n      <th>75%</th>\n      <td>205005.500000</td>\n      <td>0.000000</td>\n      <td>1.000000</td>\n      <td>1.000000</td>\n      <td>1.000000</td>\n      <td>2.000000</td>\n    </tr>\n    <tr>\n      <th>max</th>\n      <td>331454.000000</td>\n      <td>1.000000</td>\n      <td>3.000000</td>\n      <td>1.000000</td>\n      <td>1.000000</td>\n      <td>2.000000</td>\n    </tr>\n  </tbody>\n</table>\n</div>",
                        "text/plain": "              INCKEY       SPEEDING        WEATHER      LIGHTCOND  \\\ncount  116376.000000  116376.000000  116376.000000  116376.000000   \nmean   141957.407816       0.051282       0.768398       0.335843   \nstd     87012.123560       0.220573       1.121211       0.447227   \nmin      1001.000000       0.000000       0.000000       0.000000   \n25%     70813.750000       0.000000       0.000000       0.000000   \n50%    124341.000000       0.000000       0.000000       0.000000   \n75%    205005.500000       0.000000       1.000000       1.000000   \nmax    331454.000000       1.000000       3.000000       1.000000   \n\n            ROADCOND   SEVERITYCODE  \ncount  116376.000000  116376.000000  \nmean        0.298692       1.500000  \nstd         0.434644       0.500002  \nmin         0.000000       1.000000  \n25%         0.000000       1.000000  \n50%         0.000000       1.500000  \n75%         1.000000       2.000000  \nmax         1.000000       2.000000  "
                    },
                    "execution_count": 95,
                    "metadata": {},
                    "output_type": "execute_result"
                }
            ],
            "source": "df_a.describe()"
        },
        {
            "cell_type": "code",
            "execution_count": 130,
            "metadata": {},
            "outputs": [],
            "source": "import matplotlib as mpl\nimport matplotlib.pyplot as plt"
        },
        {
            "cell_type": "code",
            "execution_count": 131,
            "metadata": {},
            "outputs": [
                {
                    "data": {
                        "text/plain": "Text(0.5, 1.0, 'SEVERITYCODE')"
                    },
                    "execution_count": 131,
                    "metadata": {},
                    "output_type": "execute_result"
                },
                {
                    "data": {
                        "image/png": "[encoded data removed]",
                        "text/plain": "<Figure size 432x288 with 1 Axes>"
                    },
                    "metadata": {
                        "needs_background": "light"
                    },
                    "output_type": "display_data"
                }
            ],
            "source": "df_a['SEVERITYCODE'].plot(kind='hist')\nplt.title('SEVERITYCODE')"
        },
        {
            "cell_type": "code",
            "execution_count": 149,
            "metadata": {},
            "outputs": [
                {
                    "data": {
                        "text/plain": "<matplotlib.axes._subplots.AxesSubplot at 0x7f463745be48>"
                    },
                    "execution_count": 149,
                    "metadata": {},
                    "output_type": "execute_result"
                },
                {
                    "data": {
                        "image/png": "[encoded data removed]",
                        "text/plain": "<Figure size 432x288 with 1 Axes>"
                    },
                    "metadata": {
                        "needs_background": "light"
                    },
                    "output_type": "display_data"
                }
            ],
            "source": "df_a['SPEEDING'].plot(kind='Hist')"
        },
        {
            "cell_type": "code",
            "execution_count": 151,
            "metadata": {},
            "outputs": [
                {
                    "data": {
                        "text/plain": "<matplotlib.axes._subplots.AxesSubplot at 0x7f463271be80>"
                    },
                    "execution_count": 151,
                    "metadata": {},
                    "output_type": "execute_result"
                },
                {
                    "data": {
                        "image/png": "[encoded data removed]",
                        "text/plain": "<Figure size 432x288 with 1 Axes>"
                    },
                    "metadata": {
                        "needs_background": "light"
                    },
                    "output_type": "display_data"
                }
            ],
            "source": "df_a['WEATHER'].plot(kind='Hist')"
        },
        {
            "cell_type": "code",
            "execution_count": 152,
            "metadata": {},
            "outputs": [
                {
                    "data": {
                        "text/plain": "<matplotlib.axes._subplots.AxesSubplot at 0x7f46304f3ef0>"
                    },
                    "execution_count": 152,
                    "metadata": {},
                    "output_type": "execute_result"
                },
                {
                    "data": {
                        "image/png": "[encoded data removed]",
                        "text/plain": "<Figure size 432x288 with 1 Axes>"
                    },
                    "metadata": {
                        "needs_background": "light"
                    },
                    "output_type": "display_data"
                }
            ],
            "source": "df_a['LIGHTCOND'].plot(kind='Hist')"
        },
        {
            "cell_type": "code",
            "execution_count": 153,
            "metadata": {},
            "outputs": [
                {
                    "data": {
                        "text/plain": "<matplotlib.axes._subplots.AxesSubplot at 0x7f46304ff278>"
                    },
                    "execution_count": 153,
                    "metadata": {},
                    "output_type": "execute_result"
                },
                {
                    "data": {
                        "image/png": "[encoded data removed]",
                        "text/plain": "<Figure size 432x288 with 1 Axes>"
                    },
                    "metadata": {
                        "needs_background": "light"
                    },
                    "output_type": "display_data"
                }
            ],
            "source": "df_a['ROADCOND'].plot(kind='Hist')"
        },
        {
            "cell_type": "code",
            "execution_count": 98,
            "metadata": {},
            "outputs": [],
            "source": "import pandas as pd\nfrom sklearn.tree import DecisionTreeClassifier # Import Decision Tree Classifier\nfrom sklearn.model_selection import train_test_split # Import train_test_split function\nfrom sklearn import metrics"
        },
        {
            "cell_type": "code",
            "execution_count": 99,
            "metadata": {},
            "outputs": [],
            "source": "df_ax = ['SPEEDING', 'UNDERINFL', 'WEATHER', 'LIGHTCOND', 'ROADCOND']"
        },
        {
            "cell_type": "code",
            "execution_count": 100,
            "metadata": {},
            "outputs": [],
            "source": "X =df_a[df_ax]"
        },
        {
            "cell_type": "code",
            "execution_count": 101,
            "metadata": {},
            "outputs": [],
            "source": "y=df_a['SEVERITYCODE']"
        },
        {
            "cell_type": "code",
            "execution_count": 102,
            "metadata": {},
            "outputs": [],
            "source": "#Split Data \nX_train, X_test, y_train, y_test = train_test_split(X, y, test_size=0.3, random_state=1) "
        },
        {
            "cell_type": "code",
            "execution_count": 144,
            "metadata": {},
            "outputs": [],
            "source": "#Decision Tree"
        },
        {
            "cell_type": "code",
            "execution_count": 126,
            "metadata": {},
            "outputs": [],
            "source": "dt = DecisionTreeClassifier(criterion=\"entropy\", max_depth=10)\ndt = dt.fit(X_train,y_train)\ny_pred = dt.predict(X_test)"
        },
        {
            "cell_type": "code",
            "execution_count": 127,
            "metadata": {},
            "outputs": [
                {
                    "name": "stdout",
                    "output_type": "stream",
                    "text": "Accuracy: 0.5617678228740011\n"
                }
            ],
            "source": "#Accuracy of Decision Tree\nprint(\"Accuracy:\",metrics.accuracy_score(y_test, y_pred))"
        },
        {
            "cell_type": "code",
            "execution_count": 142,
            "metadata": {},
            "outputs": [],
            "source": "#Logistic Regression"
        },
        {
            "cell_type": "code",
            "execution_count": 136,
            "metadata": {},
            "outputs": [],
            "source": "from sklearn.linear_model import LogisticRegression"
        },
        {
            "cell_type": "code",
            "execution_count": 138,
            "metadata": {},
            "outputs": [],
            "source": "LR = LogisticRegression(C=0.01, solver='liblinear').fit(X,y)"
        },
        {
            "cell_type": "code",
            "execution_count": 139,
            "metadata": {},
            "outputs": [],
            "source": "yhatLR = LR.predict(X_test)\nyhat_prob = LR.predict_proba(X_test)"
        },
        {
            "cell_type": "code",
            "execution_count": 145,
            "metadata": {},
            "outputs": [
                {
                    "name": "stdout",
                    "output_type": "stream",
                    "text": "Accuracy 0.5504253429954459\n"
                }
            ],
            "source": "#Accuracy of Logistic Regression\nprint (\"Accuracy\", metrics.accuracy_score(yhatLR,y_test))"
        },
        {
            "cell_type": "code",
            "execution_count": null,
            "metadata": {},
            "outputs": [],
            "source": ""
        }
    ],
    "metadata": {
        "kernelspec": {
            "display_name": "Python 3.6",
            "language": "python",
            "name": "python3"
        },
        "language_info": {
            "codemirror_mode": {
                "name": "ipython",
                "version": 3
            },
            "file_extension": ".py",
            "mimetype": "text/x-python",
            "name": "python",
            "nbconvert_exporter": "python",
            "pygments_lexer": "ipython3",
            "version": "3.6.9"
        }
    },
    "nbformat": 4,
    "nbformat_minor": 1
}